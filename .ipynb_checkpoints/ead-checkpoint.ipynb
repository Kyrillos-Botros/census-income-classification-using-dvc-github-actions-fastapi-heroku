{
 "cells": [
  {
   "cell_type": "code",
   "execution_count": 2,
   "metadata": {
    "ExecuteTime": {
     "end_time": "2023-07-20T17:26:15.794498253Z",
     "start_time": "2023-07-20T17:26:15.604787119Z"
    }
   },
   "outputs": [],
   "source": [
    "import pandas as pd\n",
    "import json"
   ]
  },
  {
   "cell_type": "code",
   "execution_count": 3,
   "metadata": {
    "is_executing": true
   },
   "outputs": [],
   "source": [
    "data_path = 'data/test_data.csv'"
   ]
  },
  {
   "cell_type": "code",
   "execution_count": 4,
   "metadata": {
    "ExecuteTime": {
     "end_time": "2023-07-20T17:26:15.864984875Z",
     "start_time": "2023-07-20T17:26:15.795636712Z"
    }
   },
   "outputs": [],
   "source": [
    "test_data = pd.read_csv(data_path)"
   ]
  },
  {
   "cell_type": "code",
   "execution_count": 6,
   "metadata": {
    "ExecuteTime": {
     "end_time": "2023-07-20T18:46:12.681829379Z",
     "start_time": "2023-07-20T18:46:12.636102261Z"
    }
   },
   "outputs": [],
   "source": [
    "data_above_50k = test_data[test_data[\"salary\"] == \">50K\"].copy().iloc[[3]]\n",
    "data_above_50k = data_above_50k.drop(\"salary\", axis=1)\n",
    "data_above_50k_dict = data_above_50k.to_dict(orient=\"records\")[0]"
   ]
  },
  {
   "cell_type": "code",
   "execution_count": 7,
   "metadata": {
    "ExecuteTime": {
     "end_time": "2023-07-20T18:46:22.100742265Z",
     "start_time": "2023-07-20T18:46:22.053411539Z"
    }
   },
   "outputs": [],
   "source": [
    "import requests"
   ]
  },
  {
   "cell_type": "code",
   "execution_count": 45,
   "metadata": {
    "ExecuteTime": {
     "end_time": "2023-07-20T18:46:33.374498054Z",
     "start_time": "2023-07-20T18:46:33.319701333Z"
    }
   },
   "outputs": [],
   "source": [
    "url = \"http://127.0.0.1:8080/predict\"\n",
    "params = data_above_50k_dict\n",
    "r = requests.post(url, json=params)\n",
    "print(r.json())"
   ]
  },
  {
   "cell_type": "code",
   "execution_count": 53,
   "metadata": {
    "ExecuteTime": {
     "end_time": "2023-07-20T19:12:21.557883339Z",
     "start_time": "2023-07-20T19:12:21.507606766Z"
    }
   },
   "outputs": [],
   "source": [
    "from fastapi.testclient import TestClient\n",
    "from main import app\n",
    "client = TestClient(app)\n",
    "\n",
    "response = client.post(\n",
    "\"/predict/\"\n",
    "    d\n",
    ")\n"
   ]
  }
 ],
 "metadata": {
  "kernelspec": {
   "display_name": "Python 3 (ipykernel)",
   "language": "python",
   "name": "python3"
  },
  "language_info": {
   "codemirror_mode": {
    "name": "ipython",
    "version": 3
   },
   "file_extension": ".py",
   "mimetype": "text/x-python",
   "name": "python",
   "nbconvert_exporter": "python",
   "pygments_lexer": "ipython3",
   "version": "3.8.17"
  }
 },
 "nbformat": 4,
 "nbformat_minor": 1
}
