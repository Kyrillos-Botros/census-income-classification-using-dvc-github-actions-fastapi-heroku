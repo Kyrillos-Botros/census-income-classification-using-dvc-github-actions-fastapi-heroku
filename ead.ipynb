{
 "cells": [
  {
   "cell_type": "code",
   "execution_count": 2,
   "metadata": {
    "ExecuteTime": {
     "end_time": "2023-07-20T17:26:15.794498253Z",
     "start_time": "2023-07-20T17:26:15.604787119Z"
    }
   },
   "outputs": [],
   "source": [
    "import pandas as pd\n",
    "import json"
   ]
  },
  {
   "cell_type": "code",
   "execution_count": 3,
   "metadata": {
    "is_executing": true
   },
   "outputs": [],
   "source": [
    "data_path = 'data/test_data.csv'"
   ]
  },
  {
   "cell_type": "code",
   "execution_count": 4,
   "metadata": {
    "ExecuteTime": {
     "end_time": "2023-07-20T17:26:15.864984875Z",
     "start_time": "2023-07-20T17:26:15.795636712Z"
    }
   },
   "outputs": [],
   "source": [
    "test_data = pd.read_csv(data_path)"
   ]
  },
  {
   "cell_type": "code",
   "execution_count": 6,
   "metadata": {
    "ExecuteTime": {
     "end_time": "2023-07-20T18:46:12.681829379Z",
     "start_time": "2023-07-20T18:46:12.636102261Z"
    }
   },
   "outputs": [],
   "source": [
    "data_above_50k = test_data[test_data[\"salary\"] == \">50K\"].copy().iloc[[3]]\n",
    "data_above_50k = data_above_50k.drop(\"salary\", axis=1)\n",
    "data_above_50k_dict = data_above_50k.to_dict(orient=\"records\")[0]"
   ]
  },
  {
   "cell_type": "code",
   "execution_count": 7,
   "metadata": {
    "ExecuteTime": {
     "end_time": "2023-07-20T18:46:22.100742265Z",
     "start_time": "2023-07-20T18:46:22.053411539Z"
    }
   },
   "outputs": [],
   "source": [
    "import requests"
   ]
  },
  {
   "cell_type": "code",
   "execution_count": 45,
   "metadata": {
    "ExecuteTime": {
     "end_time": "2023-07-20T18:46:33.374498054Z",
     "start_time": "2023-07-20T18:46:33.319701333Z"
    }
   },
   "outputs": [],
   "source": [
    "url = \"http://127.0.0.1:8080/predict\"\n",
    "params = data_above_50k_dict\n",
    "r = requests.post(url, json=params)\n",
    "print(r.json())"
   ]
  },
  {
   "cell_type": "code",
   "execution_count": 9,
   "outputs": [
    {
     "data": {
      "text/plain": "{'age': 29,\n 'workclass': 'Private',\n 'fnlgt': 137476,\n 'education': 'Bachelors',\n 'education-num': 13,\n 'marital-status': 'Married-civ-spouse',\n 'occupation': 'Prof-specialty',\n 'relationship': 'Wife',\n 'race': 'White',\n 'sex': 'Female',\n 'capital-gain': 0,\n 'capital-loss': 0,\n 'hours-per-week': 35,\n 'native-country': 'United-States'}"
     },
     "execution_count": 9,
     "metadata": {},
     "output_type": "execute_result"
    }
   ],
   "source": [
    "data_above_50k_dict"
   ],
   "metadata": {
    "collapsed": false,
    "ExecuteTime": {
     "end_time": "2023-07-20T19:34:30.416331742Z",
     "start_time": "2023-07-20T19:34:30.357038006Z"
    }
   }
  },
  {
   "cell_type": "code",
   "execution_count": null,
   "outputs": [],
   "source": [],
   "metadata": {
    "collapsed": false
   }
  }
 ],
 "metadata": {
  "kernelspec": {
   "display_name": "Python 3 (ipykernel)",
   "language": "python",
   "name": "python3"
  },
  "language_info": {
   "codemirror_mode": {
    "name": "ipython",
    "version": 3
   },
   "file_extension": ".py",
   "mimetype": "text/x-python",
   "name": "python",
   "nbconvert_exporter": "python",
   "pygments_lexer": "ipython3",
   "version": "3.8.17"
  }
 },
 "nbformat": 4,
 "nbformat_minor": 1
}
